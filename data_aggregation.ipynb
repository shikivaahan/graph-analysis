{
 "cells": [
  {
   "cell_type": "code",
   "execution_count": 1,
   "metadata": {},
   "outputs": [],
   "source": [
    "import pandas as pd\n",
    "import warnings\n",
    "from functions import *"
   ]
  },
  {
   "cell_type": "code",
   "execution_count": 5,
   "metadata": {},
   "outputs": [
    {
     "name": "stdout",
     "output_type": "stream",
     "text": [
      "Number of rows: 3194\n",
      "Number of columns: 9\n",
      "\n",
      "Column names and data types:\n",
      "customer_id         object\n",
      "end_customer_id     object\n",
      "account_hash        object\n",
      "amount             float64\n",
      "email               object\n",
      "given_names         object\n",
      "middle_name         object\n",
      "surname             object\n",
      "is_fraud            object\n",
      "dtype: object\n",
      "\n",
      "Number of NaN values per column (sorted by highest to lowest):\n",
      "middle_name        1055\n",
      "surname             750\n",
      "email               451\n",
      "end_customer_id     446\n",
      "given_names         446\n",
      "customer_id           0\n",
      "account_hash          0\n",
      "amount                0\n",
      "is_fraud              0\n",
      "dtype: int64\n",
      "\n",
      "Number of unique values per column (sorted by highest to lowest):\n",
      "account_hash       693\n",
      "customer_id        650\n",
      "amount             483\n",
      "end_customer_id    481\n",
      "given_names        425\n",
      "surname            399\n",
      "middle_name        383\n",
      "email              347\n",
      "is_fraud             2\n",
      "dtype: int64\n",
      "\n",
      "Basic statistics for numeric columns:\n",
      "             amount\n",
      "count   3194.000000\n",
      "mean   12403.578150\n",
      "std     9869.657581\n",
      "min       19.200000\n",
      "25%     3005.000000\n",
      "50%    10005.000000\n",
      "75%    20005.000000\n",
      "max    50015.000000\n"
     ]
    }
   ],
   "source": [
    "# Read the data\n",
    "df1 = read_excel('idtobank.xlsx')\n",
    "df2 = read_excel('hashtoid.xlsx')\n",
    "fraud_data = read_excel('fraud.xlsx', sheet_name='Detail data')\n",
    "\n",
    "df1 = preprocess_dataframe(df1)\n",
    "df2 = preprocess_dataframe(df2)\n",
    "\n",
    "df = pd.concat([df1, df2], ignore_index=True)\n",
    "fraud_ids = fraud_data['customer_id'].unique()\n",
    "df['is_fraud'] = df['customer_id'].isin(fraud_ids).astype(object)\n",
    "df['amount'] = pd.to_numeric(df['amount'], errors='coerce')\n",
    "df= df[['customer_id', 'end_customer_id', 'account_hash', 'amount', 'email', 'given_names', 'middle_name', 'surname','is_fraud']]\n",
    "rows_to_drop = df[(df['customer_id'].isna()) & df['end_customer_id'].isna() & (df['is_fraud'] == 0)].index\n",
    "df= df.drop(rows_to_drop)\n",
    "describe_dataframe(df)"
   ]
  },
  {
   "cell_type": "code",
   "execution_count": 8,
   "metadata": {},
   "outputs": [
    {
     "data": {
      "text/plain": [
       "1796"
      ]
     },
     "execution_count": 8,
     "metadata": {},
     "output_type": "execute_result"
    }
   ],
   "source": [
    "len(df['is_fraud'] == True)"
   ]
  },
  {
   "cell_type": "code",
   "execution_count": null,
   "metadata": {},
   "outputs": [],
   "source": []
  }
 ],
 "metadata": {
  "kernelspec": {
   "display_name": "Python 3",
   "language": "python",
   "name": "python3"
  },
  "language_info": {
   "codemirror_mode": {
    "name": "ipython",
    "version": 3
   },
   "file_extension": ".py",
   "mimetype": "text/x-python",
   "name": "python",
   "nbconvert_exporter": "python",
   "pygments_lexer": "ipython3",
   "version": "3.12.3"
  }
 },
 "nbformat": 4,
 "nbformat_minor": 2
}
